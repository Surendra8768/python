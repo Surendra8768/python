{
 "cells": [
  {
   "cell_type": "code",
   "execution_count": 1,
   "id": "ffb4a604",
   "metadata": {},
   "outputs": [
    {
     "name": "stderr",
     "output_type": "stream",
     "text": [
      "C:\\ProgramData\\Anaconda3\\lib\\site-packages\\scipy\\__init__.py:146: UserWarning: A NumPy version >=1.16.5 and <1.23.0 is required for this version of SciPy (detected version 1.26.4\n",
      "  warnings.warn(f\"A NumPy version >={np_minversion} and <{np_maxversion}\"\n"
     ]
    }
   ],
   "source": [
    "import pandas as pd\n",
    "import numpy as np\n",
    "import matplotlib.pyplot as plt\n",
    "import seaborn as sns\n",
    "from sklearn.preprocessing import LabelEncoder, StandardScaler\n",
    "from sklearn.model_selection import train_test_split\n",
    "from sklearn.feature_extraction.text import TfidfVectorizer\n",
    "from sklearn.linear_model import LogisticRegression\n",
    "from sklearn.metrics import classification_report, confusion_matrix, f1_score\n",
    "from sklearn.model_selection import GridSearchCV\n",
    "from imblearn.over_sampling import SMOTE\n",
    "from wordcloud import WordCloud\n",
    "import tensorflow as tf\n",
    "from tensorflow.keras.models import Sequential\n",
    "from tensorflow.keras.layers import Dense, Dropout\n",
    "from tensorflow.keras.optimizers import Adam"
   ]
  },
  {
   "cell_type": "code",
   "execution_count": 3,
   "id": "a429c0ef",
   "metadata": {},
   "outputs": [
    {
     "name": "stdout",
     "output_type": "stream",
     "text": [
      "<class 'pandas.core.frame.DataFrame'>\n",
      "RangeIndex: 2534 entries, 0 to 2533\n",
      "Data columns (total 14 columns):\n",
      " #   Column                   Non-Null Count  Dtype  \n",
      "---  ------                   --------------  -----  \n",
      " 0   uniq_id                  2534 non-null   object \n",
      " 1   crawl_timestamp          2534 non-null   object \n",
      " 2   product_url              2534 non-null   object \n",
      " 3   product_name             2534 non-null   object \n",
      " 4   pid                      2534 non-null   object \n",
      " 5   retail_price             2530 non-null   float64\n",
      " 6   discounted_price         2530 non-null   float64\n",
      " 7   image                    2534 non-null   object \n",
      " 8   is_FK_Advantage_product  2534 non-null   bool   \n",
      " 9   description              2534 non-null   object \n",
      " 10  product_rating           2534 non-null   object \n",
      " 11  overall_rating           2534 non-null   object \n",
      " 12  brand                    2012 non-null   object \n",
      " 13  product_specifications   2529 non-null   object \n",
      "dtypes: bool(1), float64(2), object(11)\n",
      "memory usage: 260.0+ KB\n",
      "None\n",
      "                            uniq_id            crawl_timestamp  \\\n",
      "0  4fb99d98225f415e7ece96938e95628f  2015-12-20 08:26:17 +0000   \n",
      "1  4ea284c8d38b2ea97a1c2a26f34e057c  2015-12-20 08:26:17 +0000   \n",
      "2  ee6ce2c7045c54257e2a0b590e09c296  2015-12-20 08:26:17 +0000   \n",
      "3  e797ba3b5f2e2d1fdc520e48486ab60e  2015-12-20 08:26:17 +0000   \n",
      "4  f4d8d43858c8858c68d75ce07ac641c0  2015-12-20 08:26:17 +0000   \n",
      "\n",
      "                                         product_url  \\\n",
      "0  http://www.flipkart.com/v-v-art-brass-bracelet...   \n",
      "1  http://www.flipkart.com/kalpaveda-copper-cuff/...   \n",
      "2  http://www.flipkart.com/thelostpuppy-book-cove...   \n",
      "3  http://www.flipkart.com/riana-copper-bangle/p/...   \n",
      "4  http://www.flipkart.com/inox-jewelry-stainless...   \n",
      "\n",
      "                                 product_name               pid  retail_price  \\\n",
      "0                      V&V ART Brass Bracelet  BBAE6NYHCDTEZJTB         470.0   \n",
      "1                Kalpaveda Copper Copper Cuff  BBAEDFFKZJTY7SZZ        1200.0   \n",
      "2  Thelostpuppy Book Cover for Apple iPad Air  ACCEA4DZH6M5SFVH        2199.0   \n",
      "3                  Riana Copper Copper Bangle  BBAEAXFQHHMF3EYZ        2499.0   \n",
      "4           Inox Jewelry Stainless Steel Cuff  BBAECH63WYDG6TE2        1629.0   \n",
      "\n",
      "   discounted_price                                              image  \\\n",
      "0             423.0  [\"http://img6a.flixcart.com/image/bangle-brace...   \n",
      "1            1200.0  [\"http://img6a.flixcart.com/image/bangle-brace...   \n",
      "2             599.0  [\"http://img5a.flixcart.com/image/cases-covers...   \n",
      "3             649.0  [\"http://img5a.flixcart.com/image/bangle-brace...   \n",
      "4            1222.0  [\"http://img6a.flixcart.com/image/bangle-brace...   \n",
      "\n",
      "   is_FK_Advantage_product                                        description  \\\n",
      "0                    False  V&V ART Brass Bracelet - Buy V&V ART Brass Bra...   \n",
      "1                    False  Kalpaveda Copper Copper Cuff\\n                ...   \n",
      "2                    False  Thelostpuppy Book Cover for Apple iPad Air (Mu...   \n",
      "3                    False  Riana Copper Copper Bangle - Buy Riana Copper ...   \n",
      "4                    False  Inox Jewelry Stainless Steel Cuff\\n           ...   \n",
      "\n",
      "        product_rating       overall_rating         brand  \\\n",
      "0  No rating available  No rating available       V&V ART   \n",
      "1  No rating available  No rating available     Kalpaveda   \n",
      "2  No rating available  No rating available  Thelostpuppy   \n",
      "3                    5                    5         Riana   \n",
      "4  No rating available  No rating available  Inox Jewelry   \n",
      "\n",
      "                              product_specifications  \n",
      "0  {\"product_specification\"=>[{\"key\"=>\"Brand\", \"v...  \n",
      "1  {\"product_specification\"=>[{\"key\"=>\"Stretchabl...  \n",
      "2  {\"product_specification\"=>[{\"key\"=>\"Brand\", \"v...  \n",
      "3  {\"product_specification\"=>[{\"key\"=>\"Collection...  \n",
      "4  {\"product_specification\"=>[{\"key\"=>\"Stretchabl...  \n"
     ]
    }
   ],
   "source": [
    "# Step 1: Data Import and Preprocessing\n",
    "# 1. Load the provided datasets\n",
    "data = pd.read_csv('test_data.csv')\n",
    "\n",
    "# Display basic information about the dataset\n",
    "print(data.info())\n",
    "print(data.head())"
   ]
  },
  {
   "cell_type": "code",
   "execution_count": 4,
   "id": "2a51f103",
   "metadata": {},
   "outputs": [
    {
     "name": "stdout",
     "output_type": "stream",
     "text": [
      "uniq_id                      0\n",
      "crawl_timestamp              0\n",
      "product_url                  0\n",
      "product_name                 0\n",
      "pid                          0\n",
      "retail_price                 4\n",
      "discounted_price             4\n",
      "image                        0\n",
      "is_FK_Advantage_product      0\n",
      "description                  0\n",
      "product_rating               0\n",
      "overall_rating               0\n",
      "brand                      522\n",
      "product_specifications       5\n",
      "dtype: int64\n"
     ]
    }
   ],
   "source": [
    "# 2. Effectively manage missing data, outliers, and data inconsistencies\n",
    "# Check for missing values\n",
    "missing_values = data.isnull().sum()\n",
    "print(missing_values)\n",
    "\n",
    "# Fill missing values with an appropriate strategy\n",
    "data['retail_price'].fillna(data['retail_price'].mean(), inplace=True)\n",
    "data['discounted_price'].fillna(data['discounted_price'].mean(), inplace=True)\n",
    "data['brand'].fillna('unknown', inplace=True)\n",
    "data['product_specifications'].fillna('unknown', inplace=True)\n",
    "\n",
    "# Check for duplicates and drop them\n",
    "data.drop_duplicates(inplace=True)"
   ]
  },
  {
   "cell_type": "code",
   "execution_count": 5,
   "id": "6f42d9d2",
   "metadata": {},
   "outputs": [],
   "source": [
    "# 3. Prepare the data for analysis through necessary transformations\n",
    "# Convert categorical columns to consistent format (e.g., lowercase)\n",
    "categorical_columns = ['product_name', 'brand']\n",
    "for col in categorical_columns:\n",
    "    data[col] = data[col].str.lower()\n",
    "\n",
    "# Drop columns that are not features\n",
    "features_to_drop = ['uniq_id', 'crawl_timestamp', 'pid', 'product_url', 'image', 'description', 'product_specifications']\n",
    "X = data.drop(columns=features_to_drop + ['overall_rating'])\n",
    "\n",
    "# Ensure all column names are strings\n",
    "X.columns = X.columns.astype(str)\n",
    "\n",
    "# Convert categorical features to numerical values using Label Encoding\n",
    "label_encoders = {}\n",
    "for col in X.select_dtypes(include=['object']).columns:\n",
    "    le = LabelEncoder()\n",
    "    X[col] = le.fit_transform(X[col])\n",
    "    label_encoders[col] = le\n",
    "\n",
    "# Target column\n",
    "y = data['overall_rating'].apply(lambda x: 0 if x == 'No rating available' else float(x.split()[0]))\n",
    "# Convert to float to handle decimal ratings\n",
    "\n",
    "# If you specifically need integers, you can round the float values:\n",
    "y = y.round().astype(int)  # Round and convert to integers\n",
    "\n",
    "# Standardize numerical features\n",
    "numerical_columns = ['retail_price', 'discounted_price', 'product_rating']\n",
    "scaler = StandardScaler()\n",
    "X[numerical_columns] = scaler.fit_transform(X[numerical_columns])"
   ]
  },
  {
   "cell_type": "code",
   "execution_count": 6,
   "id": "72a0949e",
   "metadata": {},
   "outputs": [
    {
     "name": "stdout",
     "output_type": "stream",
     "text": [
      "       retail_price  discounted_price\n",
      "count   2534.000000       2534.000000\n",
      "mean    1894.598024       1011.826877\n",
      "std     2870.315941       1721.529107\n",
      "min       55.000000         47.000000\n",
      "25%      850.000000        449.000000\n",
      "50%     1299.000000        600.000000\n",
      "75%     2199.000000        958.000000\n",
      "max    46500.000000      25510.000000\n"
     ]
    },
    {
     "data": {
      "image/png": "[encoded data removed]",
      "text/plain": [
       "<Figure size 432x288 with 1 Axes>"
      ]
     },
     "metadata": {
      "needs_background": "light"
     },
     "output_type": "display_data"
    },
    {
     "data": {
      "image/png": "[encoded data removed]",
      "text/plain": [
       "<Figure size 432x288 with 1 Axes>"
      ]
     },
     "metadata": {
      "needs_background": "light"
     },
     "output_type": "display_data"
    }
   ],
   "source": [
    "# Step 2: Exploratory Data Analysis (EDA)\n",
    "# 1. Summary statistics\n",
    "print(data.describe())\n",
    "\n",
    "# 2. Visualizations\n",
    "# Visualize the distribution of target variable\n",
    "sns.countplot(x=y)\n",
    "plt.title('Distribution of Target Variable')\n",
    "plt.show()\n",
    "\n",
    "# Visualize the distribution of product prices\n",
    "sns.histplot(data['retail_price'], bins=50, kde=True)\n",
    "plt.title('Distribution of Retail Prices')\n",
    "plt.show()"
   ]
  },
  {
   "cell_type": "code",
   "execution_count": 36,
   "id": "8fc0d8f3",
   "metadata": {
    "scrolled": false
   },
   "outputs": [
    {
     "data": {
      "image/png": "[encoded data removed]",
      "text/plain": [
       "<Figure size 720x576 with 4 Axes>"
      ]
     },
     "metadata": {
      "needs_background": "light"
     },
     "output_type": "display_data"
    },
    {
     "data": {
      "image/png": "[encoded data removed]",
      "text/plain": [
       "<Figure size 864x720 with 4 Axes>"
      ]
     },
     "metadata": {
      "needs_background": "light"
     },
     "output_type": "display_data"
    },
    {
     "name": "stdout",
     "output_type": "stream",
     "text": [
      "The 'category' column is missing.\n",
      "Correlation Matrix:\n",
      "                         retail_price  discounted_price  \\\n",
      "retail_price                 1.000000          0.830286   \n",
      "discounted_price             0.830286          1.000000   \n",
      "is_FK_Advantage_product     -0.049140          0.006633   \n",
      "product_rating               0.066174          0.064122   \n",
      "overall_rating               0.066174          0.064122   \n",
      "\n",
      "                         is_FK_Advantage_product  product_rating  \\\n",
      "retail_price                           -0.049140        0.066174   \n",
      "discounted_price                        0.006633        0.064122   \n",
      "is_FK_Advantage_product                 1.000000       -0.071421   \n",
      "product_rating                         -0.071421        1.000000   \n",
      "overall_rating                         -0.071421        1.000000   \n",
      "\n",
      "                         overall_rating  \n",
      "retail_price                   0.066174  \n",
      "discounted_price               0.064122  \n",
      "is_FK_Advantage_product       -0.071421  \n",
      "product_rating                 1.000000  \n",
      "overall_rating                 1.000000  \n"
     ]
    },
    {
     "data": {
      "image/png": "[encoded data removed]",
      "text/plain": [
       "<Figure size 864x576 with 2 Axes>"
      ]
     },
     "metadata": {
      "needs_background": "light"
     },
     "output_type": "display_data"
    }
   ],
   "source": [
    "# Select only numerical features for plotting\n",
    "numerical_features = ['retail_price', 'discounted_price', 'product_rating', 'overall_rating']\n",
    "\n",
    "# Ensure these features are numeric\n",
    "for feature in numerical_features:\n",
    "    data[feature] = pd.to_numeric(data[feature], errors='coerce')\n",
    "\n",
    "# Drop rows with NaN values in numerical features to avoid plotting errors\n",
    "data = data.dropna(subset=numerical_features)\n",
    "\n",
    "# Plot histograms for numerical features\n",
    "data[numerical_features].hist(figsize=(10, 8), bins=20)\n",
    "plt.suptitle('Histograms of Numerical Features')\n",
    "plt.show()\n",
    "\n",
    "# Plot box plots for numerical features\n",
    "fig, axes = plt.subplots(2, 2, figsize=(12, 10))\n",
    "for i, feature in enumerate(numerical_features):\n",
    "    sns.boxplot(ax=axes[i//2, i%2], y=data[feature])\n",
    "    axes[i//2, i%2].set_title(f'Box plot of {feature}')\n",
    "plt.tight_layout()\n",
    "plt.show()\n",
    "\n",
    "# 3. Category Distribution\n",
    "# Assuming 'category' is a column in your dataset\n",
    "if 'category' in data.columns:\n",
    "    plt.figure(figsize=(10, 6))\n",
    "    sns.countplot(y=data['category'], order=data['category'].value_counts().index)\n",
    "    plt.title('Distribution of Product Categories')\n",
    "    plt.show()\n",
    "else:\n",
    "    print(\"The 'category' column is missing.\")\n",
    "\n",
    "# 4. Correlations\n",
    "# Calculate the correlation matrix\n",
    "corr_matrix = data.corr()\n",
    "print(\"Correlation Matrix:\")\n",
    "print(corr_matrix)\n",
    "\n",
    "# Plot the correlation matrix\n",
    "plt.figure(figsize=(12, 8))\n",
    "sns.heatmap(corr_matrix, annot=True, cmap='coolwarm', vmin=-1, vmax=1)\n",
    "plt.title('Correlation Matrix')\n",
    "plt.show()"
   ]
  },
  {
   "cell_type": "code",
   "execution_count": 7,
   "id": "f1be4bb5",
   "metadata": {},
   "outputs": [],
   "source": [
    "# Step 3: Feature Engineering/Text to Features\n",
    "# 1. Convert text descriptions into numerical features using TF-IDF\n",
    "tfidf_vectorizer = TfidfVectorizer(stop_words='english', max_features=5000)\n",
    "X_tfidf = tfidf_vectorizer.fit_transform(data['product_name'])\n",
    "\n",
    "# Combine TF-IDF features with the rest of the features\n",
    "X_combined = pd.concat([X.reset_index(drop=True), pd.DataFrame(X_tfidf.toarray())], axis=1)"
   ]
  },
  {
   "cell_type": "code",
   "execution_count": 8,
   "id": "4da971ab",
   "metadata": {},
   "outputs": [
    {
     "name": "stderr",
     "output_type": "stream",
     "text": [
      "C:\\ProgramData\\Anaconda3\\lib\\site-packages\\sklearn\\linear_model\\_logistic.py:814: ConvergenceWarning: lbfgs failed to converge (status=1):\n",
      "STOP: TOTAL NO. of ITERATIONS REACHED LIMIT.\n",
      "\n",
      "Increase the number of iterations (max_iter) or scale the data as shown in:\n",
      "    https://scikit-learn.org/stable/modules/preprocessing.html\n",
      "Please also refer to the documentation for alternative solver options:\n",
      "    https://scikit-learn.org/stable/modules/linear_model.html#logistic-regression\n",
      "  n_iter_i = _check_optimize_result(\n"
     ]
    },
    {
     "data": {
      "text/plain": [
       "LogisticRegression(max_iter=1000)"
      ]
     },
     "execution_count": 8,
     "metadata": {},
     "output_type": "execute_result"
    }
   ],
   "source": [
    "# Step 4: Machine Learning Model Building\n",
    "# 1. Build machine learning models using Logistic Regression\n",
    "X_train, X_test, y_train, y_test = train_test_split(X_combined, y, test_size=0.2, random_state=42)\n",
    "\n",
    "# Ensure all column names in X_train and X_test are strings\n",
    "X_train.columns = X_train.columns.astype(str)\n",
    "X_test.columns = X_test.columns.astype(str)\n",
    "\n",
    "log_reg = LogisticRegression(max_iter=1000)\n",
    "log_reg.fit(X_train, y_train)"
   ]
  },
  {
   "cell_type": "code",
   "execution_count": 9,
   "id": "69f65e98",
   "metadata": {},
   "outputs": [
    {
     "name": "stderr",
     "output_type": "stream",
     "text": [
      "C:\\Users\\suren\\AppData\\Roaming\\Python\\Python39\\site-packages\\keras\\src\\layers\\core\\dense.py:87: UserWarning: Do not pass an `input_shape`/`input_dim` argument to a layer. When using Sequential models, prefer using an `Input(shape)` object as the first layer in the model instead.\n",
      "  super().__init__(activity_regularizer=activity_regularizer, **kwargs)\n"
     ]
    },
    {
     "name": "stdout",
     "output_type": "stream",
     "text": [
      "Epoch 1/10\n",
      "\u001b[1m51/51\u001b[0m \u001b[32m━━━━━━━━━━━━━━━━━━━━\u001b[0m\u001b[37m\u001b[0m \u001b[1m3s\u001b[0m 14ms/step - accuracy: 0.7280 - loss: 16.3135 - val_accuracy: 0.9581 - val_loss: 1.4655\n",
      "Epoch 2/10\n",
      "\u001b[1m51/51\u001b[0m \u001b[32m━━━━━━━━━━━━━━━━━━━━\u001b[0m\u001b[37m\u001b[0m \u001b[1m0s\u001b[0m 7ms/step - accuracy: 0.8258 - loss: 3.5787 - val_accuracy: 0.9581 - val_loss: 0.4395\n",
      "Epoch 3/10\n",
      "\u001b[1m51/51\u001b[0m \u001b[32m━━━━━━━━━━━━━━━━━━━━\u001b[0m\u001b[37m\u001b[0m \u001b[1m0s\u001b[0m 7ms/step - accuracy: 0.8674 - loss: 1.8081 - val_accuracy: 0.9581 - val_loss: 0.5435\n",
      "Epoch 4/10\n",
      "\u001b[1m51/51\u001b[0m \u001b[32m━━━━━━━━━━━━━━━━━━━━\u001b[0m\u001b[37m\u001b[0m \u001b[1m1s\u001b[0m 9ms/step - accuracy: 0.8632 - loss: 1.2069 - val_accuracy: 0.9581 - val_loss: 0.4200\n",
      "Epoch 5/10\n",
      "\u001b[1m51/51\u001b[0m \u001b[32m━━━━━━━━━━━━━━━━━━━━\u001b[0m\u001b[37m\u001b[0m \u001b[1m0s\u001b[0m 7ms/step - accuracy: 0.9024 - loss: 0.6717 - val_accuracy: 0.9581 - val_loss: 0.4692\n",
      "Epoch 6/10\n",
      "\u001b[1m51/51\u001b[0m \u001b[32m━━━━━━━━━━━━━━━━━━━━\u001b[0m\u001b[37m\u001b[0m \u001b[1m0s\u001b[0m 6ms/step - accuracy: 0.9170 - loss: 0.6208 - val_accuracy: 0.9581 - val_loss: 0.3480\n",
      "Epoch 7/10\n",
      "\u001b[1m51/51\u001b[0m \u001b[32m━━━━━━━━━━━━━━━━━━━━\u001b[0m\u001b[37m\u001b[0m \u001b[1m0s\u001b[0m 7ms/step - accuracy: 0.9160 - loss: 0.6042 - val_accuracy: 0.9581 - val_loss: 0.3401\n",
      "Epoch 8/10\n",
      "\u001b[1m51/51\u001b[0m \u001b[32m━━━━━━━━━━━━━━━━━━━━\u001b[0m\u001b[37m\u001b[0m \u001b[1m0s\u001b[0m 7ms/step - accuracy: 0.9244 - loss: 0.5689 - val_accuracy: 0.9581 - val_loss: 0.3877\n",
      "Epoch 9/10\n",
      "\u001b[1m51/51\u001b[0m \u001b[32m━━━━━━━━━━━━━━━━━━━━\u001b[0m\u001b[37m\u001b[0m \u001b[1m0s\u001b[0m 7ms/step - accuracy: 0.9202 - loss: 0.5519 - val_accuracy: 0.9581 - val_loss: 0.3066\n",
      "Epoch 10/10\n",
      "\u001b[1m51/51\u001b[0m \u001b[32m━━━━━━━━━━━━━━━━━━━━\u001b[0m\u001b[37m\u001b[0m \u001b[1m0s\u001b[0m 7ms/step - accuracy: 0.9230 - loss: 0.4642 - val_accuracy: 0.9581 - val_loss: 0.2721\n"
     ]
    }
   ],
   "source": [
    "# 2. Apply deep learning models (optional)\n",
    "# Build a simple neural network\n",
    "model = Sequential()\n",
    "model.add(Dense(128, input_dim=X_train.shape[1], activation='relu'))\n",
    "model.add(Dropout(0.5))\n",
    "model.add(Dense(64, activation='relu'))\n",
    "model.add(Dropout(0.5))\n",
    "model.add(Dense(len(np.unique(y_train)), activation='softmax'))\n",
    "\n",
    "# Compile the model\n",
    "model.compile(optimizer=Adam(), loss='sparse_categorical_crossentropy', metrics=['accuracy'])\n",
    "\n",
    "# Train the model\n",
    "history = model.fit(X_train, y_train, epochs=10, batch_size=32, validation_split=0.2)"
   ]
  },
  {
   "cell_type": "code",
   "execution_count": 10,
   "id": "1e9c6a10",
   "metadata": {},
   "outputs": [
    {
     "name": "stdout",
     "output_type": "stream",
     "text": [
      "F1 Score: 0.9860534164769255\n",
      "              precision    recall  f1-score   support\n",
      "\n",
      "           0       1.00      1.00      1.00       489\n",
      "           1       0.75      0.75      0.75         4\n",
      "           2       0.00      0.00      0.00         4\n",
      "           3       0.33      1.00      0.50         2\n",
      "           4       1.00      1.00      1.00         4\n",
      "           5       1.00      0.75      0.86         4\n",
      "\n",
      "    accuracy                           0.99       507\n",
      "   macro avg       0.68      0.75      0.68       507\n",
      "weighted avg       0.99      0.99      0.99       507\n",
      "\n",
      "\u001b[1m 1/16\u001b[0m \u001b[32m━\u001b[0m\u001b[37m━━━━━━━━━━━━━━━━━━━\u001b[0m \u001b[1m1s\u001b[0m 85ms/step"
     ]
    },
    {
     "name": "stderr",
     "output_type": "stream",
     "text": [
      "C:\\ProgramData\\Anaconda3\\lib\\site-packages\\sklearn\\metrics\\_classification.py:1318: UndefinedMetricWarning: Precision and F-score are ill-defined and being set to 0.0 in labels with no predicted samples. Use `zero_division` parameter to control this behavior.\n",
      "  _warn_prf(average, modifier, msg_start, len(result))\n",
      "C:\\ProgramData\\Anaconda3\\lib\\site-packages\\sklearn\\metrics\\_classification.py:1318: UndefinedMetricWarning: Precision and F-score are ill-defined and being set to 0.0 in labels with no predicted samples. Use `zero_division` parameter to control this behavior.\n",
      "  _warn_prf(average, modifier, msg_start, len(result))\n",
      "C:\\ProgramData\\Anaconda3\\lib\\site-packages\\sklearn\\metrics\\_classification.py:1318: UndefinedMetricWarning: Precision and F-score are ill-defined and being set to 0.0 in labels with no predicted samples. Use `zero_division` parameter to control this behavior.\n",
      "  _warn_prf(average, modifier, msg_start, len(result))\n"
     ]
    },
    {
     "name": "stdout",
     "output_type": "stream",
     "text": [
      "\u001b[1m16/16\u001b[0m \u001b[32m━━━━━━━━━━━━━━━━━━━━\u001b[0m\u001b[37m\u001b[0m \u001b[1m0s\u001b[0m 6ms/step\n",
      "F1 Score (Deep Learning): 0.9470663719968633\n",
      "              precision    recall  f1-score   support\n",
      "\n",
      "           0       0.96      1.00      0.98       489\n",
      "           1       0.00      0.00      0.00         4\n",
      "           2       0.00      0.00      0.00         4\n",
      "           3       0.00      0.00      0.00         2\n",
      "           4       0.00      0.00      0.00         4\n",
      "           5       0.00      0.00      0.00         4\n",
      "\n",
      "    accuracy                           0.96       507\n",
      "   macro avg       0.16      0.17      0.16       507\n",
      "weighted avg       0.93      0.96      0.95       507\n",
      "\n"
     ]
    },
    {
     "name": "stderr",
     "output_type": "stream",
     "text": [
      "C:\\ProgramData\\Anaconda3\\lib\\site-packages\\sklearn\\metrics\\_classification.py:1318: UndefinedMetricWarning: Precision and F-score are ill-defined and being set to 0.0 in labels with no predicted samples. Use `zero_division` parameter to control this behavior.\n",
      "  _warn_prf(average, modifier, msg_start, len(result))\n",
      "C:\\ProgramData\\Anaconda3\\lib\\site-packages\\sklearn\\metrics\\_classification.py:1318: UndefinedMetricWarning: Precision and F-score are ill-defined and being set to 0.0 in labels with no predicted samples. Use `zero_division` parameter to control this behavior.\n",
      "  _warn_prf(average, modifier, msg_start, len(result))\n",
      "C:\\ProgramData\\Anaconda3\\lib\\site-packages\\sklearn\\metrics\\_classification.py:1318: UndefinedMetricWarning: Precision and F-score are ill-defined and being set to 0.0 in labels with no predicted samples. Use `zero_division` parameter to control this behavior.\n",
      "  _warn_prf(average, modifier, msg_start, len(result))\n"
     ]
    }
   ],
   "source": [
    "# Step 5: Model Evaluation\n",
    "# Logistic Regression evaluation\n",
    "y_pred = log_reg.predict(X_test)\n",
    "\n",
    "# 1. Assess using F1-score\n",
    "print(f\"F1 Score: {f1_score(y_test, y_pred, average='weighted')}\")\n",
    "\n",
    "# 2. Detailed classification report\n",
    "print(classification_report(y_test, y_pred))\n",
    "\n",
    "# Deep Learning Model evaluation\n",
    "y_pred_dl = np.argmax(model.predict(X_test), axis=1)\n",
    "print(f\"F1 Score (Deep Learning): {f1_score(y_test, y_pred_dl, average='weighted')}\")\n",
    "print(classification_report(y_test, y_pred_dl))"
   ]
  },
  {
   "cell_type": "code",
   "execution_count": 11,
   "id": "8b28c732",
   "metadata": {},
   "outputs": [
    {
     "name": "stdout",
     "output_type": "stream",
     "text": [
      "No rating available    2399\n",
      "5                        53\n",
      "4                        20\n",
      "1                        16\n",
      "3                         9\n",
      "2                         7\n",
      "3.2                       4\n",
      "4.2                       4\n",
      "4.3                       2\n",
      "4.4                       2\n",
      "3.5                       2\n",
      "3.4                       2\n",
      "3.6                       2\n",
      "3.7                       2\n",
      "4.5                       2\n",
      "4.6                       1\n",
      "3.3                       1\n",
      "4.9                       1\n",
      "1.5                       1\n",
      "2.3                       1\n",
      "1.3                       1\n",
      "2.8                       1\n",
      "2.7                       1\n",
      "Name: overall_rating, dtype: int64\n",
      "F1 Score after SMOTE: 0.9862499367824812\n",
      "              precision    recall  f1-score   support\n",
      "\n",
      "           0       1.00      0.99      1.00       489\n",
      "           1       0.60      0.75      0.67         4\n",
      "           2       0.50      0.25      0.33         4\n",
      "           3       0.50      1.00      0.67         2\n",
      "           4       1.00      1.00      1.00         4\n",
      "           5       0.67      1.00      0.80         4\n",
      "\n",
      "    accuracy                           0.99       507\n",
      "   macro avg       0.71      0.83      0.74       507\n",
      "weighted avg       0.99      0.99      0.99       507\n",
      "\n"
     ]
    },
    {
     "name": "stderr",
     "output_type": "stream",
     "text": [
      "C:\\ProgramData\\Anaconda3\\lib\\site-packages\\sklearn\\linear_model\\_logistic.py:814: ConvergenceWarning: lbfgs failed to converge (status=1):\n",
      "STOP: TOTAL NO. of ITERATIONS REACHED LIMIT.\n",
      "\n",
      "Increase the number of iterations (max_iter) or scale the data as shown in:\n",
      "    https://scikit-learn.org/stable/modules/preprocessing.html\n",
      "Please also refer to the documentation for alternative solver options:\n",
      "    https://scikit-learn.org/stable/modules/linear_model.html#logistic-regression\n",
      "  n_iter_i = _check_optimize_result(\n"
     ]
    }
   ],
   "source": [
    "# Step 6: Imbalanced Class Handling\n",
    "# Check class distribution\n",
    "print(data['overall_rating'].value_counts())\n",
    "\n",
    "# 1. Address class imbalance using SMOTE\n",
    "k_neighbors = max(1, min(data['overall_rating'].value_counts()) - 1) \n",
    "smote = SMOTE(random_state=42, k_neighbors=k_neighbors)\n",
    "X_resampled, y_resampled = smote.fit_resample(X_train, y_train)\n",
    "\n",
    "# Train model again on resampled data\n",
    "log_reg.fit(X_resampled, y_resampled)\n",
    "\n",
    "# Evaluate model again\n",
    "y_pred_resampled = log_reg.predict(X_test)\n",
    "print(f\"F1 Score after SMOTE: {f1_score(y_test, y_pred_resampled, average='weighted')}\")\n",
    "print(classification_report(y_test, y_pred_resampled))"
   ]
  },
  {
   "cell_type": "code",
   "execution_count": 12,
   "id": "dedd8af0",
   "metadata": {},
   "outputs": [
    {
     "name": "stderr",
     "output_type": "stream",
     "text": [
      "C:\\ProgramData\\Anaconda3\\lib\\site-packages\\sklearn\\linear_model\\_logistic.py:814: ConvergenceWarning: lbfgs failed to converge (status=1):\n",
      "STOP: TOTAL NO. of ITERATIONS REACHED LIMIT.\n",
      "\n",
      "Increase the number of iterations (max_iter) or scale the data as shown in:\n",
      "    https://scikit-learn.org/stable/modules/preprocessing.html\n",
      "Please also refer to the documentation for alternative solver options:\n",
      "    https://scikit-learn.org/stable/modules/linear_model.html#logistic-regression\n",
      "  n_iter_i = _check_optimize_result(\n",
      "C:\\ProgramData\\Anaconda3\\lib\\site-packages\\sklearn\\linear_model\\_logistic.py:814: ConvergenceWarning: lbfgs failed to converge (status=1):\n",
      "STOP: TOTAL NO. of ITERATIONS REACHED LIMIT.\n",
      "\n",
      "Increase the number of iterations (max_iter) or scale the data as shown in:\n",
      "    https://scikit-learn.org/stable/modules/preprocessing.html\n",
      "Please also refer to the documentation for alternative solver options:\n",
      "    https://scikit-learn.org/stable/modules/linear_model.html#logistic-regression\n",
      "  n_iter_i = _check_optimize_result(\n",
      "C:\\ProgramData\\Anaconda3\\lib\\site-packages\\sklearn\\linear_model\\_logistic.py:814: ConvergenceWarning: lbfgs failed to converge (status=1):\n",
      "STOP: TOTAL NO. of ITERATIONS REACHED LIMIT.\n",
      "\n",
      "Increase the number of iterations (max_iter) or scale the data as shown in:\n",
      "    https://scikit-learn.org/stable/modules/preprocessing.html\n",
      "Please also refer to the documentation for alternative solver options:\n",
      "    https://scikit-learn.org/stable/modules/linear_model.html#logistic-regression\n",
      "  n_iter_i = _check_optimize_result(\n",
      "C:\\ProgramData\\Anaconda3\\lib\\site-packages\\sklearn\\linear_model\\_logistic.py:814: ConvergenceWarning: lbfgs failed to converge (status=1):\n",
      "STOP: TOTAL NO. of ITERATIONS REACHED LIMIT.\n",
      "\n",
      "Increase the number of iterations (max_iter) or scale the data as shown in:\n",
      "    https://scikit-learn.org/stable/modules/preprocessing.html\n",
      "Please also refer to the documentation for alternative solver options:\n",
      "    https://scikit-learn.org/stable/modules/linear_model.html#logistic-regression\n",
      "  n_iter_i = _check_optimize_result(\n",
      "C:\\ProgramData\\Anaconda3\\lib\\site-packages\\sklearn\\linear_model\\_logistic.py:814: ConvergenceWarning: lbfgs failed to converge (status=1):\n",
      "STOP: TOTAL NO. of ITERATIONS REACHED LIMIT.\n",
      "\n",
      "Increase the number of iterations (max_iter) or scale the data as shown in:\n",
      "    https://scikit-learn.org/stable/modules/preprocessing.html\n",
      "Please also refer to the documentation for alternative solver options:\n",
      "    https://scikit-learn.org/stable/modules/linear_model.html#logistic-regression\n",
      "  n_iter_i = _check_optimize_result(\n",
      "C:\\ProgramData\\Anaconda3\\lib\\site-packages\\sklearn\\linear_model\\_logistic.py:814: ConvergenceWarning: lbfgs failed to converge (status=1):\n",
      "STOP: TOTAL NO. of ITERATIONS REACHED LIMIT.\n",
      "\n",
      "Increase the number of iterations (max_iter) or scale the data as shown in:\n",
      "    https://scikit-learn.org/stable/modules/preprocessing.html\n",
      "Please also refer to the documentation for alternative solver options:\n",
      "    https://scikit-learn.org/stable/modules/linear_model.html#logistic-regression\n",
      "  n_iter_i = _check_optimize_result(\n",
      "C:\\ProgramData\\Anaconda3\\lib\\site-packages\\sklearn\\linear_model\\_logistic.py:814: ConvergenceWarning: lbfgs failed to converge (status=1):\n",
      "STOP: TOTAL NO. of ITERATIONS REACHED LIMIT.\n",
      "\n",
      "Increase the number of iterations (max_iter) or scale the data as shown in:\n",
      "    https://scikit-learn.org/stable/modules/preprocessing.html\n",
      "Please also refer to the documentation for alternative solver options:\n",
      "    https://scikit-learn.org/stable/modules/linear_model.html#logistic-regression\n",
      "  n_iter_i = _check_optimize_result(\n",
      "C:\\ProgramData\\Anaconda3\\lib\\site-packages\\sklearn\\linear_model\\_logistic.py:814: ConvergenceWarning: lbfgs failed to converge (status=1):\n",
      "STOP: TOTAL NO. of ITERATIONS REACHED LIMIT.\n",
      "\n",
      "Increase the number of iterations (max_iter) or scale the data as shown in:\n",
      "    https://scikit-learn.org/stable/modules/preprocessing.html\n",
      "Please also refer to the documentation for alternative solver options:\n",
      "    https://scikit-learn.org/stable/modules/linear_model.html#logistic-regression\n",
      "  n_iter_i = _check_optimize_result(\n",
      "C:\\ProgramData\\Anaconda3\\lib\\site-packages\\sklearn\\linear_model\\_logistic.py:814: ConvergenceWarning: lbfgs failed to converge (status=1):\n",
      "STOP: TOTAL NO. of ITERATIONS REACHED LIMIT.\n",
      "\n",
      "Increase the number of iterations (max_iter) or scale the data as shown in:\n",
      "    https://scikit-learn.org/stable/modules/preprocessing.html\n",
      "Please also refer to the documentation for alternative solver options:\n",
      "    https://scikit-learn.org/stable/modules/linear_model.html#logistic-regression\n",
      "  n_iter_i = _check_optimize_result(\n",
      "C:\\ProgramData\\Anaconda3\\lib\\site-packages\\sklearn\\linear_model\\_logistic.py:814: ConvergenceWarning: lbfgs failed to converge (status=1):\n",
      "STOP: TOTAL NO. of ITERATIONS REACHED LIMIT.\n",
      "\n",
      "Increase the number of iterations (max_iter) or scale the data as shown in:\n",
      "    https://scikit-learn.org/stable/modules/preprocessing.html\n",
      "Please also refer to the documentation for alternative solver options:\n",
      "    https://scikit-learn.org/stable/modules/linear_model.html#logistic-regression\n",
      "  n_iter_i = _check_optimize_result(\n",
      "C:\\ProgramData\\Anaconda3\\lib\\site-packages\\sklearn\\linear_model\\_logistic.py:814: ConvergenceWarning: lbfgs failed to converge (status=1):\n",
      "STOP: TOTAL NO. of ITERATIONS REACHED LIMIT.\n",
      "\n",
      "Increase the number of iterations (max_iter) or scale the data as shown in:\n",
      "    https://scikit-learn.org/stable/modules/preprocessing.html\n",
      "Please also refer to the documentation for alternative solver options:\n",
      "    https://scikit-learn.org/stable/modules/linear_model.html#logistic-regression\n",
      "  n_iter_i = _check_optimize_result(\n",
      "C:\\ProgramData\\Anaconda3\\lib\\site-packages\\sklearn\\linear_model\\_logistic.py:814: ConvergenceWarning: lbfgs failed to converge (status=1):\n",
      "STOP: TOTAL NO. of ITERATIONS REACHED LIMIT.\n",
      "\n",
      "Increase the number of iterations (max_iter) or scale the data as shown in:\n",
      "    https://scikit-learn.org/stable/modules/preprocessing.html\n",
      "Please also refer to the documentation for alternative solver options:\n",
      "    https://scikit-learn.org/stable/modules/linear_model.html#logistic-regression\n",
      "  n_iter_i = _check_optimize_result(\n",
      "C:\\ProgramData\\Anaconda3\\lib\\site-packages\\sklearn\\linear_model\\_logistic.py:814: ConvergenceWarning: lbfgs failed to converge (status=1):\n",
      "STOP: TOTAL NO. of ITERATIONS REACHED LIMIT.\n",
      "\n",
      "Increase the number of iterations (max_iter) or scale the data as shown in:\n",
      "    https://scikit-learn.org/stable/modules/preprocessing.html\n",
      "Please also refer to the documentation for alternative solver options:\n",
      "    https://scikit-learn.org/stable/modules/linear_model.html#logistic-regression\n",
      "  n_iter_i = _check_optimize_result(\n",
      "C:\\ProgramData\\Anaconda3\\lib\\site-packages\\sklearn\\linear_model\\_logistic.py:814: ConvergenceWarning: lbfgs failed to converge (status=1):\n",
      "STOP: TOTAL NO. of ITERATIONS REACHED LIMIT.\n",
      "\n",
      "Increase the number of iterations (max_iter) or scale the data as shown in:\n",
      "    https://scikit-learn.org/stable/modules/preprocessing.html\n",
      "Please also refer to the documentation for alternative solver options:\n",
      "    https://scikit-learn.org/stable/modules/linear_model.html#logistic-regression\n",
      "  n_iter_i = _check_optimize_result(\n",
      "C:\\ProgramData\\Anaconda3\\lib\\site-packages\\sklearn\\linear_model\\_logistic.py:814: ConvergenceWarning: lbfgs failed to converge (status=1):\n",
      "STOP: TOTAL NO. of ITERATIONS REACHED LIMIT.\n",
      "\n",
      "Increase the number of iterations (max_iter) or scale the data as shown in:\n",
      "    https://scikit-learn.org/stable/modules/preprocessing.html\n",
      "Please also refer to the documentation for alternative solver options:\n",
      "    https://scikit-learn.org/stable/modules/linear_model.html#logistic-regression\n",
      "  n_iter_i = _check_optimize_result(\n",
      "C:\\ProgramData\\Anaconda3\\lib\\site-packages\\sklearn\\linear_model\\_logistic.py:814: ConvergenceWarning: lbfgs failed to converge (status=1):\n",
      "STOP: TOTAL NO. of ITERATIONS REACHED LIMIT.\n",
      "\n",
      "Increase the number of iterations (max_iter) or scale the data as shown in:\n",
      "    https://scikit-learn.org/stable/modules/preprocessing.html\n",
      "Please also refer to the documentation for alternative solver options:\n",
      "    https://scikit-learn.org/stable/modules/linear_model.html#logistic-regression\n",
      "  n_iter_i = _check_optimize_result(\n",
      "C:\\ProgramData\\Anaconda3\\lib\\site-packages\\sklearn\\linear_model\\_logistic.py:814: ConvergenceWarning: lbfgs failed to converge (status=1):\n",
      "STOP: TOTAL NO. of ITERATIONS REACHED LIMIT.\n",
      "\n",
      "Increase the number of iterations (max_iter) or scale the data as shown in:\n",
      "    https://scikit-learn.org/stable/modules/preprocessing.html\n",
      "Please also refer to the documentation for alternative solver options:\n",
      "    https://scikit-learn.org/stable/modules/linear_model.html#logistic-regression\n",
      "  n_iter_i = _check_optimize_result(\n",
      "C:\\ProgramData\\Anaconda3\\lib\\site-packages\\sklearn\\linear_model\\_logistic.py:814: ConvergenceWarning: lbfgs failed to converge (status=1):\n",
      "STOP: TOTAL NO. of ITERATIONS REACHED LIMIT.\n",
      "\n",
      "Increase the number of iterations (max_iter) or scale the data as shown in:\n",
      "    https://scikit-learn.org/stable/modules/preprocessing.html\n",
      "Please also refer to the documentation for alternative solver options:\n",
      "    https://scikit-learn.org/stable/modules/linear_model.html#logistic-regression\n",
      "  n_iter_i = _check_optimize_result(\n",
      "C:\\ProgramData\\Anaconda3\\lib\\site-packages\\sklearn\\linear_model\\_logistic.py:814: ConvergenceWarning: lbfgs failed to converge (status=1):\n",
      "STOP: TOTAL NO. of ITERATIONS REACHED LIMIT.\n",
      "\n",
      "Increase the number of iterations (max_iter) or scale the data as shown in:\n",
      "    https://scikit-learn.org/stable/modules/preprocessing.html\n",
      "Please also refer to the documentation for alternative solver options:\n",
      "    https://scikit-learn.org/stable/modules/linear_model.html#logistic-regression\n",
      "  n_iter_i = _check_optimize_result(\n",
      "C:\\ProgramData\\Anaconda3\\lib\\site-packages\\sklearn\\linear_model\\_logistic.py:814: ConvergenceWarning: lbfgs failed to converge (status=1):\n",
      "STOP: TOTAL NO. of ITERATIONS REACHED LIMIT.\n",
      "\n",
      "Increase the number of iterations (max_iter) or scale the data as shown in:\n",
      "    https://scikit-learn.org/stable/modules/preprocessing.html\n",
      "Please also refer to the documentation for alternative solver options:\n",
      "    https://scikit-learn.org/stable/modules/linear_model.html#logistic-regression\n",
      "  n_iter_i = _check_optimize_result(\n"
     ]
    },
    {
     "name": "stdout",
     "output_type": "stream",
     "text": [
      "Best Hyperparameters: {'C': 10, 'solver': 'liblinear'}\n",
      "F1 Score after Hyperparameter Tuning: 0.9822842679715317\n",
      "              precision    recall  f1-score   support\n",
      "\n",
      "           0       1.00      0.99      1.00       489\n",
      "           1       0.80      1.00      0.89         4\n",
      "           2       1.00      0.25      0.40         4\n",
      "           3       0.25      0.50      0.33         2\n",
      "           4       0.67      1.00      0.80         4\n",
      "           5       0.50      0.50      0.50         4\n",
      "\n",
      "    accuracy                           0.98       507\n",
      "   macro avg       0.70      0.71      0.65       507\n",
      "weighted avg       0.99      0.98      0.98       507\n",
      "\n"
     ]
    }
   ],
   "source": [
    "# Step 7: Hyperparameter Tuning\n",
    "param_grid = {'C': [0.1, 1, 10, 100], 'solver': ['liblinear', 'lbfgs']}\n",
    "grid_search = GridSearchCV(LogisticRegression(max_iter=1000), param_grid, scoring='f1_weighted', cv=5)\n",
    "grid_search.fit(X_resampled, y_resampled)\n",
    "\n",
    "# Best hyperparameters\n",
    "print(f\"Best Hyperparameters: {grid_search.best_params_}\")\n",
    "\n",
    "# Evaluate the best model\n",
    "best_model = grid_search.best_estimator_\n",
    "y_pred_best = best_model.predict(X_test)\n",
    "print(f\"F1 Score after Hyperparameter Tuning: {f1_score(y_test, y_pred_best, average='weighted')}\")\n",
    "print(classification_report(y_test, y_pred_best))"
   ]
  },
  {
   "cell_type": "code",
   "execution_count": 38,
   "id": "42dc7a87",
   "metadata": {},
   "outputs": [],
   "source": [
    "# Step 8: Predictions\n",
    "test_predictions = best_model.predict(X_test)\n",
    "\n",
    "# Save predictions to a CSV file\n",
    "predictions_df = pd.DataFrame(test_predictions, columns=['Predicted'])\n",
    "predictions_df.to_csv('test_predictions.csv', index=False)"
   ]
  }
 ],
 "metadata": {
  "kernelspec": {
   "display_name": "Python 3 (ipykernel)",
   "language": "python",
   "name": "python3"
  },
  "language_info": {
   "codemirror_mode": {
    "name": "ipython",
    "version": 3
   },
   "file_extension": ".py",
   "mimetype": "text/x-python",
   "name": "python",
   "nbconvert_exporter": "python",
   "pygments_lexer": "ipython3",
   "version": "3.9.12"
  }
 },
 "nbformat": 4,
 "nbformat_minor": 5
}
